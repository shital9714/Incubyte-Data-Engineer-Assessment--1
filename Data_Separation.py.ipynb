{
 "cells": [
  {
   "cell_type": "code",
   "execution_count": 2,
   "id": "4d3acfb8",
   "metadata": {},
   "outputs": [],
   "source": [
    "import mysql.connector as mysql\n",
    "import pandas as pd"
   ]
  },
  {
   "cell_type": "code",
   "execution_count": 3,
   "id": "ece3dd62",
   "metadata": {},
   "outputs": [],
   "source": [
    "database = mysql.connect(\n",
    "    host=\"localhost\",\n",
    "    user=\"root\",\n",
    "    password=\"root123\",\n",
    "    database=\"hospital\")\n",
    "cursor = database.cursor()"
   ]
  },
  {
   "cell_type": "code",
   "execution_count": 5,
   "id": "30e72ee5",
   "metadata": {},
   "outputs": [],
   "source": [
    "query2 = \"select * from patients\""
   ]
  },
  {
   "cell_type": "code",
   "execution_count": 6,
   "id": "84105d8e",
   "metadata": {},
   "outputs": [],
   "source": [
    "cursor.execute(query2)"
   ]
  },
  {
   "cell_type": "code",
   "execution_count": 7,
   "id": "bced30da",
   "metadata": {},
   "outputs": [],
   "source": [
    "table_rows = cursor.fetchall()\n",
    "df = pd.read_sql('SELECT * FROM patients', con=database)\n",
    "df.set_index(['Customer_ID'], inplace=True)"
   ]
  },
  {
   "cell_type": "code",
   "execution_count": 8,
   "id": "4c75f9c4",
   "metadata": {},
   "outputs": [],
   "source": [
    "def get_data(country):\n",
    "    data = df.loc[df['Country'] == country]\n",
    "    print(data)"
   ]
  },
  {
   "cell_type": "code",
   "execution_count": 11,
   "id": "c21b34d5",
   "metadata": {},
   "outputs": [],
   "source": [
    "def store_file(country):   \n",
    "    data = df.loc[df['Country'] == country]\n",
    "    data.to_csv('K:/Incubytes/ouput/' + country + \".csv\")\n",
    "    print(\"File has been created to the specified path\")"
   ]
  },
  {
   "cell_type": "code",
   "execution_count": 12,
   "id": "02407b69",
   "metadata": {},
   "outputs": [
    {
     "name": "stdout",
     "output_type": "stream",
     "text": [
      "            Customer_name Customer_Open_Date Last_Consulted_Date  \\\n",
      "Customer_ID                                                        \n",
      "123457               Alex         2010-10-12          2012-10-13   \n",
      "\n",
      "            Vaccination_Type Doctor_Consulted State Country Post_Code  \\\n",
      "Customer_ID                                                             \n",
      "123457                   MVD             Paul    SA     USA      None   \n",
      "\n",
      "            Date_of_Birth Active_Customer  \n",
      "Customer_ID                                \n",
      "123457         1987-03-06               A  \n",
      "File has been created to the specified path\n"
     ]
    }
   ],
   "source": [
    "\n",
    "get_data(\"USA\")\n",
    "store_file(\"USA\")"
   ]
  },
  {
   "cell_type": "code",
   "execution_count": 13,
   "id": "70bd9028",
   "metadata": {},
   "outputs": [
    {
     "name": "stdout",
     "output_type": "stream",
     "text": [
      "            Customer_name Customer_Open_Date Last_Consulted_Date  \\\n",
      "Customer_ID                                                        \n",
      "123458               John         2010-10-12          2012-10-13   \n",
      "\n",
      "            Vaccination_Type Doctor_Consulted State Country Post_Code  \\\n",
      "Customer_ID                                                             \n",
      "123458                   MVD             Paul    TN     IND      None   \n",
      "\n",
      "            Date_of_Birth Active_Customer  \n",
      "Customer_ID                                \n",
      "123458         1987-03-06               A  \n",
      "File has been created to the specified path\n"
     ]
    }
   ],
   "source": [
    "get_data(\"IND\")\n",
    "store_file(\"IND\")"
   ]
  },
  {
   "cell_type": "code",
   "execution_count": null,
   "id": "f55b2c95",
   "metadata": {},
   "outputs": [],
   "source": []
  }
 ],
 "metadata": {
  "kernelspec": {
   "display_name": "Python 3 (ipykernel)",
   "language": "python",
   "name": "python3"
  },
  "language_info": {
   "codemirror_mode": {
    "name": "ipython",
    "version": 3
   },
   "file_extension": ".py",
   "mimetype": "text/x-python",
   "name": "python",
   "nbconvert_exporter": "python",
   "pygments_lexer": "ipython3",
   "version": "3.7.3"
  }
 },
 "nbformat": 4,
 "nbformat_minor": 5
}
